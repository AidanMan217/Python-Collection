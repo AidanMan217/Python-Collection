{
 "cells": [
  {
   "cell_type": "code",
   "execution_count": 492,
   "metadata": {},
   "outputs": [],
   "source": [
    "import pandas as pd\n",
    "import numpy as np\n",
    "from sklearn.model_selection import train_test_split"
   ]
  },
  {
   "cell_type": "code",
   "execution_count": 493,
   "metadata": {},
   "outputs": [
    {
     "data": {
      "text/html": [
       "<div>\n",
       "<style scoped>\n",
       "    .dataframe tbody tr th:only-of-type {\n",
       "        vertical-align: middle;\n",
       "    }\n",
       "\n",
       "    .dataframe tbody tr th {\n",
       "        vertical-align: top;\n",
       "    }\n",
       "\n",
       "    .dataframe thead th {\n",
       "        text-align: right;\n",
       "    }\n",
       "</style>\n",
       "<table border=\"1\" class=\"dataframe\">\n",
       "  <thead>\n",
       "    <tr style=\"text-align: right;\">\n",
       "      <th></th>\n",
       "      <th>fixed acidity</th>\n",
       "      <th>volatile acidity</th>\n",
       "      <th>citric acid</th>\n",
       "      <th>residual sugar</th>\n",
       "      <th>chlorides</th>\n",
       "      <th>free sulfur dioxide</th>\n",
       "      <th>total sulfur dioxide</th>\n",
       "      <th>density</th>\n",
       "      <th>pH</th>\n",
       "      <th>sulphates</th>\n",
       "      <th>alcohol</th>\n",
       "      <th>quality</th>\n",
       "    </tr>\n",
       "  </thead>\n",
       "  <tbody>\n",
       "    <tr>\n",
       "      <th>0</th>\n",
       "      <td>7.4</td>\n",
       "      <td>0.700</td>\n",
       "      <td>0.00</td>\n",
       "      <td>1.9</td>\n",
       "      <td>0.076</td>\n",
       "      <td>11.0</td>\n",
       "      <td>34.0</td>\n",
       "      <td>0.99780</td>\n",
       "      <td>3.51</td>\n",
       "      <td>0.56</td>\n",
       "      <td>9.4</td>\n",
       "      <td>5</td>\n",
       "    </tr>\n",
       "    <tr>\n",
       "      <th>1</th>\n",
       "      <td>7.8</td>\n",
       "      <td>0.880</td>\n",
       "      <td>0.00</td>\n",
       "      <td>2.6</td>\n",
       "      <td>0.098</td>\n",
       "      <td>25.0</td>\n",
       "      <td>67.0</td>\n",
       "      <td>0.99680</td>\n",
       "      <td>3.20</td>\n",
       "      <td>0.68</td>\n",
       "      <td>9.8</td>\n",
       "      <td>5</td>\n",
       "    </tr>\n",
       "    <tr>\n",
       "      <th>2</th>\n",
       "      <td>7.8</td>\n",
       "      <td>0.760</td>\n",
       "      <td>0.04</td>\n",
       "      <td>2.3</td>\n",
       "      <td>0.092</td>\n",
       "      <td>15.0</td>\n",
       "      <td>54.0</td>\n",
       "      <td>0.99700</td>\n",
       "      <td>3.26</td>\n",
       "      <td>0.65</td>\n",
       "      <td>9.8</td>\n",
       "      <td>5</td>\n",
       "    </tr>\n",
       "    <tr>\n",
       "      <th>3</th>\n",
       "      <td>11.2</td>\n",
       "      <td>0.280</td>\n",
       "      <td>0.56</td>\n",
       "      <td>1.9</td>\n",
       "      <td>0.075</td>\n",
       "      <td>17.0</td>\n",
       "      <td>60.0</td>\n",
       "      <td>0.99800</td>\n",
       "      <td>3.16</td>\n",
       "      <td>0.58</td>\n",
       "      <td>9.8</td>\n",
       "      <td>6</td>\n",
       "    </tr>\n",
       "    <tr>\n",
       "      <th>4</th>\n",
       "      <td>7.4</td>\n",
       "      <td>0.700</td>\n",
       "      <td>0.00</td>\n",
       "      <td>1.9</td>\n",
       "      <td>0.076</td>\n",
       "      <td>11.0</td>\n",
       "      <td>34.0</td>\n",
       "      <td>0.99780</td>\n",
       "      <td>3.51</td>\n",
       "      <td>0.56</td>\n",
       "      <td>9.4</td>\n",
       "      <td>5</td>\n",
       "    </tr>\n",
       "    <tr>\n",
       "      <th>...</th>\n",
       "      <td>...</td>\n",
       "      <td>...</td>\n",
       "      <td>...</td>\n",
       "      <td>...</td>\n",
       "      <td>...</td>\n",
       "      <td>...</td>\n",
       "      <td>...</td>\n",
       "      <td>...</td>\n",
       "      <td>...</td>\n",
       "      <td>...</td>\n",
       "      <td>...</td>\n",
       "      <td>...</td>\n",
       "    </tr>\n",
       "    <tr>\n",
       "      <th>1594</th>\n",
       "      <td>6.2</td>\n",
       "      <td>0.600</td>\n",
       "      <td>0.08</td>\n",
       "      <td>2.0</td>\n",
       "      <td>0.090</td>\n",
       "      <td>32.0</td>\n",
       "      <td>44.0</td>\n",
       "      <td>0.99490</td>\n",
       "      <td>3.45</td>\n",
       "      <td>0.58</td>\n",
       "      <td>10.5</td>\n",
       "      <td>5</td>\n",
       "    </tr>\n",
       "    <tr>\n",
       "      <th>1595</th>\n",
       "      <td>5.9</td>\n",
       "      <td>0.550</td>\n",
       "      <td>0.10</td>\n",
       "      <td>2.2</td>\n",
       "      <td>0.062</td>\n",
       "      <td>39.0</td>\n",
       "      <td>51.0</td>\n",
       "      <td>0.99512</td>\n",
       "      <td>3.52</td>\n",
       "      <td>0.76</td>\n",
       "      <td>11.2</td>\n",
       "      <td>6</td>\n",
       "    </tr>\n",
       "    <tr>\n",
       "      <th>1596</th>\n",
       "      <td>6.3</td>\n",
       "      <td>0.510</td>\n",
       "      <td>0.13</td>\n",
       "      <td>2.3</td>\n",
       "      <td>0.076</td>\n",
       "      <td>29.0</td>\n",
       "      <td>40.0</td>\n",
       "      <td>0.99574</td>\n",
       "      <td>3.42</td>\n",
       "      <td>0.75</td>\n",
       "      <td>11.0</td>\n",
       "      <td>6</td>\n",
       "    </tr>\n",
       "    <tr>\n",
       "      <th>1597</th>\n",
       "      <td>5.9</td>\n",
       "      <td>0.645</td>\n",
       "      <td>0.12</td>\n",
       "      <td>2.0</td>\n",
       "      <td>0.075</td>\n",
       "      <td>32.0</td>\n",
       "      <td>44.0</td>\n",
       "      <td>0.99547</td>\n",
       "      <td>3.57</td>\n",
       "      <td>0.71</td>\n",
       "      <td>10.2</td>\n",
       "      <td>5</td>\n",
       "    </tr>\n",
       "    <tr>\n",
       "      <th>1598</th>\n",
       "      <td>6.0</td>\n",
       "      <td>0.310</td>\n",
       "      <td>0.47</td>\n",
       "      <td>3.6</td>\n",
       "      <td>0.067</td>\n",
       "      <td>18.0</td>\n",
       "      <td>42.0</td>\n",
       "      <td>0.99549</td>\n",
       "      <td>3.39</td>\n",
       "      <td>0.66</td>\n",
       "      <td>11.0</td>\n",
       "      <td>6</td>\n",
       "    </tr>\n",
       "  </tbody>\n",
       "</table>\n",
       "<p>1599 rows × 12 columns</p>\n",
       "</div>"
      ],
      "text/plain": [
       "      fixed acidity  volatile acidity  citric acid  residual sugar  chlorides  \\\n",
       "0               7.4             0.700         0.00             1.9      0.076   \n",
       "1               7.8             0.880         0.00             2.6      0.098   \n",
       "2               7.8             0.760         0.04             2.3      0.092   \n",
       "3              11.2             0.280         0.56             1.9      0.075   \n",
       "4               7.4             0.700         0.00             1.9      0.076   \n",
       "...             ...               ...          ...             ...        ...   \n",
       "1594            6.2             0.600         0.08             2.0      0.090   \n",
       "1595            5.9             0.550         0.10             2.2      0.062   \n",
       "1596            6.3             0.510         0.13             2.3      0.076   \n",
       "1597            5.9             0.645         0.12             2.0      0.075   \n",
       "1598            6.0             0.310         0.47             3.6      0.067   \n",
       "\n",
       "      free sulfur dioxide  total sulfur dioxide  density    pH  sulphates  \\\n",
       "0                    11.0                  34.0  0.99780  3.51       0.56   \n",
       "1                    25.0                  67.0  0.99680  3.20       0.68   \n",
       "2                    15.0                  54.0  0.99700  3.26       0.65   \n",
       "3                    17.0                  60.0  0.99800  3.16       0.58   \n",
       "4                    11.0                  34.0  0.99780  3.51       0.56   \n",
       "...                   ...                   ...      ...   ...        ...   \n",
       "1594                 32.0                  44.0  0.99490  3.45       0.58   \n",
       "1595                 39.0                  51.0  0.99512  3.52       0.76   \n",
       "1596                 29.0                  40.0  0.99574  3.42       0.75   \n",
       "1597                 32.0                  44.0  0.99547  3.57       0.71   \n",
       "1598                 18.0                  42.0  0.99549  3.39       0.66   \n",
       "\n",
       "      alcohol  quality  \n",
       "0         9.4        5  \n",
       "1         9.8        5  \n",
       "2         9.8        5  \n",
       "3         9.8        6  \n",
       "4         9.4        5  \n",
       "...       ...      ...  \n",
       "1594     10.5        5  \n",
       "1595     11.2        6  \n",
       "1596     11.0        6  \n",
       "1597     10.2        5  \n",
       "1598     11.0        6  \n",
       "\n",
       "[1599 rows x 12 columns]"
      ]
     },
     "execution_count": 493,
     "metadata": {},
     "output_type": "execute_result"
    }
   ],
   "source": [
    "# loading the dataset\n",
    "winedf = pd.read_csv('winequality-red.csv',sep=';')\n",
    "winedf"
   ]
  },
  {
   "cell_type": "code",
   "execution_count": 494,
   "metadata": {},
   "outputs": [],
   "source": [
    "winedf_train,winedf_value = train_test_split(winedf,test_size=0.25,random_state=50)\n",
    "winedf_value,winedf_test = train_test_split(winedf_value,test_size=0.4,random_state=50)\n",
    "\n",
    "\n"
   ]
  },
  {
   "cell_type": "code",
   "execution_count": 495,
   "metadata": {},
   "outputs": [],
   "source": [
    "def op_sse(upphi,t): #t is for target matrix\n",
    "    upphi = np.concatenate((np.ones((upphi.shape[0],1),int),upphi),1) #np.ones((# of rows in upphi,columns)) (THIS IS THE DESIGN MATRIX)\n",
    "    return np.linalg.pinv(upphi)@t #the minimizer of sum of squares error function we calculated\n",
    "\n",
    "#this is the function that calculates the weights for the linear regression model (w_ML)\n"
   ]
  },
  {
   "cell_type": "code",
   "execution_count": 496,
   "metadata": {},
   "outputs": [],
   "source": [
    "def sse(w,phi,t):\n",
    "    phi = np.insert(phi,0,1,axis=0)\n",
    "    w_T = w.T\n",
    "    polyf = w_T @ phi #polynomial function w^T*phi(x)\n",
    "    return (1/2)*np.sum((polyf-t)**2) #sum of squares error function\n",
    "\n",
    "def pred(op_sse,phi):\n",
    "    phi = np.insert(phi,0,1,axis=0)\n",
    "    return op_sse.T @ phi #prediction function, it calculates the predicted value by using the minimizer of sum of squares error function and the design matrix\n",
    "#also called the point estimate\n",
    "\n"
   ]
  },
  {
   "cell_type": "code",
   "execution_count": 497,
   "metadata": {},
   "outputs": [],
   "source": [
    "X_train = winedf_train.drop('quality',axis=1).values #X_train is the feature matrix (design matrix without bias) of the train set\n",
    "y_train = winedf_train['quality'].values #y_train is the target matrix of the train set\n",
    "\n",
    "w_ML = op_sse(X_train,y_train) #w_ML is the minimizer of sum of squares error function"
   ]
  },
  {
   "cell_type": "code",
   "execution_count": 498,
   "metadata": {},
   "outputs": [
    {
     "name": "stdout",
     "output_type": "stream",
     "text": [
      "(1199,)\n"
     ]
    }
   ],
   "source": [
    "y_train_pred = pred(w_ML,X_train.T) #y_train_pred is the predicted value of the training set\n",
    "print(np.shape(y_train_pred)) # 1199 quality predictions for 1199 wines"
   ]
  },
  {
   "cell_type": "code",
   "execution_count": 499,
   "metadata": {},
   "outputs": [],
   "source": [
    "X_test = winedf_test.drop('quality',axis=1).values #X_test is the feature matrix of the test set\n",
    "y_test = winedf_test['quality'].values #y_test is the target matrix of the test set"
   ]
  },
  {
   "cell_type": "code",
   "execution_count": 500,
   "metadata": {},
   "outputs": [
    {
     "name": "stdout",
     "output_type": "stream",
     "text": [
      "(160,)\n"
     ]
    }
   ],
   "source": [
    "y_test_pred = pred(w_ML,X_test.T) #y_test_pred is the predicted value of the test set\n",
    "print(np.shape(y_test_pred)) # 160 quality predictions for 160 wines"
   ]
  },
  {
   "cell_type": "code",
   "execution_count": 501,
   "metadata": {},
   "outputs": [],
   "source": [
    "def rmse(w,phi,t,N):\n",
    "    return np.sqrt(2*sse(w,phi,t)/N) #root mean square error function"
   ]
  },
  {
   "cell_type": "code",
   "execution_count": 502,
   "metadata": {},
   "outputs": [
    {
     "name": "stdout",
     "output_type": "stream",
     "text": [
      "RMSE of the training set: 0.6502411933180963\n",
      "RMSE of the test set: 0.6430906550433568\n"
     ]
    }
   ],
   "source": [
    "rmse_train = rmse(w_ML,X_train.T,y_train,len(y_train)) #rmse of the training set\n",
    "rmse_test = rmse(w_ML,X_test.T,y_test,len(y_test)) #rmse of the test set\n",
    "\n",
    "print('RMSE of the training set:',rmse_train)\n",
    "print('RMSE of the test set:',rmse_test)\n",
    "\n",
    "# For the training set, it says that the average prediction error is about 0.65 points off from the actual quality of the wine.\n",
    "# For the test set, it says that the average prediction error is about 0.63 points off from the actual quality of the wine.\n",
    "# The RMSE values are close to each other, which means that the model is not overfitting and is overall a good model."
   ]
  },
  {
   "cell_type": "code",
   "execution_count": 513,
   "metadata": {},
   "outputs": [
    {
     "data": {
      "image/png": "[encoded data removed]",
      "text/plain": [
       "<Figure size 640x480 with 1 Axes>"
      ]
     },
     "metadata": {},
     "output_type": "display_data"
    }
   ],
   "source": [
    "#cell for plotting\n",
    "import matplotlib.pyplot as plt\n",
    "plt.xlim(2,10)\n",
    "plt.ylim(2,10)\n",
    "plt.plot(y_train,y_train_pred,'ro')\n",
    "plt.plot(y_test,y_test_pred,'bo')\n",
    "plt.xlabel('Actual Quality')\n",
    "plt.ylabel('Predicted Quality')\n",
    "plt.title('Actual Quality vs Predicted Quality')\n",
    "plt.plot([min(y_train), max(y_train)], [min(y_train), max(y_train)], color='red', linestyle='--')\n",
    "plt.show()\n",
    "\n",
    "#red points are the training set, blue points are the test set\n",
    "#the closer the points are to the line y=x, the better the model is"
   ]
  },
  {
   "cell_type": "code",
   "execution_count": 504,
   "metadata": {},
   "outputs": [
    {
     "name": "stdout",
     "output_type": "stream",
     "text": [
      "sizes\n",
      "w_ML: (12,)\n",
      "y_train: (1199,)\n",
      "X_train: (1199, 11)\n",
      "y_train_pred: (1199,)\n",
      "X_test: (160, 11)\n",
      "y_test: (160,)\n",
      "y_test_pred: (160,)\n",
      "[ 5.2      0.645    0.       2.15     0.08    15.      28.       0.99444\n",
      "  3.78     0.61    12.5    ]\n",
      "[[0.09539043 0.70306909 0.40075407 0.42340877 0.27807345 0.03255484\n",
      "  0.08792046 0.73574585 0.02467767 0.8525503  0.95846455 0.46420127]]\n",
      "[ 1.24626653e+01  1.45398402e-02 -1.20402749e+00 -2.77460555e-01\n",
      "  8.12790537e-03 -2.06049730e+00  5.73259706e-03 -3.47305992e-03\n",
      " -8.05852465e+00 -4.54832370e-01  9.11432756e-01  2.81989740e-01]\n"
     ]
    }
   ],
   "source": [
    "print(\"sizes\")\n",
    "print(\"w_ML:\",np.shape(w_ML))\n",
    "print(\"y_train:\", np.shape(y_train))\n",
    "print(\"X_train:\", np.shape(X_train))\n",
    "print(\"y_train_pred:\", np.shape(y_train_pred))\n",
    "print(\"X_test:\", np.shape(X_test))\n",
    "print(\"y_test:\", np.shape(y_test))\n",
    "print(\"y_test_pred:\", np.shape(y_test_pred))\n",
    "\n",
    "print(X_train[1]) #each matrix in X_train is a row of the feature matrix of size 1x11\n",
    "# w_ML is a matrix of size 12x1 so we need to add a bias to each row of X_train to make it 1x12\n",
    "\n",
    "# needed this to organize what was going on mathematically\n",
    "\n",
    "print(np.random.rand(1,12))\n",
    "print(w_ML)"
   ]
  },
  {
   "cell_type": "code",
   "execution_count": 505,
   "metadata": {},
   "outputs": [],
   "source": [
    "def lms(w_ML,X,y,epochs=1000):\n",
    "    X = np.insert(X,0,1,axis=1) #adding bias to the feature matrix\n",
    "    #w_ML = np.random.rand(12,1) #initializing the weights, if you dont do this it's pretty accurate\n",
    "    for epoch in range(epochs): #for each epoch it loops the model to update the weights\n",
    "        for i in range(0,len(y)):\n",
    "            w_ML = w_ML+(0.0000001*(y[i] - w_ML.T @ X[i])*X[i]) #this is the LMS function itself \n",
    "    return w_ML\n",
    "\n"
   ]
  },
  {
   "cell_type": "code",
   "execution_count": 507,
   "metadata": {},
   "outputs": [
    {
     "name": "stdout",
     "output_type": "stream",
     "text": [
      "rmse_train: 0.6502411933180963\n",
      "rmse_test: 0.6430906550433568\n",
      "rmse+lms_train: 0.6502544848835153\n",
      "rmse+lms_test: 0.6270685484774907\n"
     ]
    }
   ],
   "source": [
    "print(\"rmse_train:\",rmse_train)\n",
    "print(\"rmse_test:\",rmse_test)\n",
    "\n",
    "rmse2_train = rmse(lms(w_ML,X_train,y_train),X_train.T,y_train,len(y_train))\n",
    "rmse2_test = rmse(lms(w_ML,X_test,y_test),X_test.T,y_test,len(y_test))\n",
    "\n",
    "print(\"rmse+lms_train:\",rmse2_train) #results of rmse with lms on the training set\n",
    "print(\"rmse+lms_test:\",rmse2_test) #results of rmse with lms on the test set\n",
    "\n",
    "#When adjusting rmse2's learning rate to 0.000001, the RMSE values are 0.65 for the training set and 0.63 for the test set.\n",
    "#These values are the same as the RMSE values of the original model, which means that the model is still a good model."
   ]
  }
 ],
 "metadata": {
  "kernelspec": {
   "display_name": "base",
   "language": "python",
   "name": "python3"
  },
  "language_info": {
   "codemirror_mode": {
    "name": "ipython",
    "version": 3
   },
   "file_extension": ".py",
   "mimetype": "text/x-python",
   "name": "python",
   "nbconvert_exporter": "python",
   "pygments_lexer": "ipython3",
   "version": "3.12.7"
  }
 },
 "nbformat": 4,
 "nbformat_minor": 2
}
